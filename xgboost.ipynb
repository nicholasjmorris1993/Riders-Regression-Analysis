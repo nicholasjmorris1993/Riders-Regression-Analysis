{
 "cells": [
  {
   "cell_type": "code",
   "execution_count": 1,
   "id": "abb00f0e-b45a-475a-ab3f-1647e3f87002",
   "metadata": {},
   "outputs": [
    {
     "name": "stdout",
     "output_type": "stream",
     "text": [
      "Requirement already satisfied: plotly in /opt/conda/envs/sagemaker-distribution/lib/python3.8/site-packages (5.17.0)\n",
      "Requirement already satisfied: tenacity>=6.2.0 in /opt/conda/envs/sagemaker-distribution/lib/python3.8/site-packages (from plotly) (8.2.3)\n",
      "Requirement already satisfied: packaging in /opt/conda/envs/sagemaker-distribution/lib/python3.8/site-packages (from plotly) (23.1)\n",
      "Note: you may need to restart the kernel to use updated packages.\n",
      "Requirement already satisfied: py-cpuinfo in /opt/conda/envs/sagemaker-distribution/lib/python3.8/site-packages (9.0.0)\n",
      "Note: you may need to restart the kernel to use updated packages.\n",
      "Requirement already satisfied: pandas-datareader in /opt/conda/envs/sagemaker-distribution/lib/python3.8/site-packages (0.10.0)\n",
      "Requirement already satisfied: lxml in /opt/conda/envs/sagemaker-distribution/lib/python3.8/site-packages (from pandas-datareader) (4.9.3)\n",
      "Requirement already satisfied: pandas>=0.23 in /opt/conda/envs/sagemaker-distribution/lib/python3.8/site-packages (from pandas-datareader) (2.0.3)\n",
      "Requirement already satisfied: requests>=2.19.0 in /opt/conda/envs/sagemaker-distribution/lib/python3.8/site-packages (from pandas-datareader) (2.31.0)\n",
      "Requirement already satisfied: python-dateutil>=2.8.2 in /opt/conda/envs/sagemaker-distribution/lib/python3.8/site-packages (from pandas>=0.23->pandas-datareader) (2.8.2)\n",
      "Requirement already satisfied: pytz>=2020.1 in /opt/conda/envs/sagemaker-distribution/lib/python3.8/site-packages (from pandas>=0.23->pandas-datareader) (2023.3)\n",
      "Requirement already satisfied: tzdata>=2022.1 in /opt/conda/envs/sagemaker-distribution/lib/python3.8/site-packages (from pandas>=0.23->pandas-datareader) (2023.3)\n",
      "Requirement already satisfied: numpy>=1.20.3 in /opt/conda/envs/sagemaker-distribution/lib/python3.8/site-packages (from pandas>=0.23->pandas-datareader) (1.24.4)\n",
      "Requirement already satisfied: charset-normalizer<4,>=2 in /opt/conda/envs/sagemaker-distribution/lib/python3.8/site-packages (from requests>=2.19.0->pandas-datareader) (3.2.0)\n",
      "Requirement already satisfied: idna<4,>=2.5 in /opt/conda/envs/sagemaker-distribution/lib/python3.8/site-packages (from requests>=2.19.0->pandas-datareader) (3.4)\n",
      "Requirement already satisfied: urllib3<3,>=1.21.1 in /opt/conda/envs/sagemaker-distribution/lib/python3.8/site-packages (from requests>=2.19.0->pandas-datareader) (1.26.15)\n",
      "Requirement already satisfied: certifi>=2017.4.17 in /opt/conda/envs/sagemaker-distribution/lib/python3.8/site-packages (from requests>=2.19.0->pandas-datareader) (2023.7.22)\n",
      "Requirement already satisfied: six>=1.5 in /opt/conda/envs/sagemaker-distribution/lib/python3.8/site-packages (from python-dateutil>=2.8.2->pandas>=0.23->pandas-datareader) (1.16.0)\n",
      "Note: you may need to restart the kernel to use updated packages.\n"
     ]
    }
   ],
   "source": [
    "# install missing packages\n",
    "%pip install plotly\n",
    "%pip install py-cpuinfo\n",
    "%pip install pandas-datareader"
   ]
  },
  {
   "cell_type": "code",
   "execution_count": 2,
   "id": "28211ea4-4ff7-48eb-a395-53442492a061",
   "metadata": {
    "tags": []
   },
   "outputs": [
    {
     "name": "stdout",
     "output_type": "stream",
     "text": [
      "Total RAM: 15.47 GB\n",
      "Available RAM: 14.08 GB\n",
      "Used RAM: 1.12 GB\n",
      "Percentage Usage Of RAM: 9.0%\n",
      "CPU Cores: 4\n",
      "CPU Speed: 2.5000 GHz\n",
      "Total Disk: 24.99 GB\n",
      "Available Disk: 16.77 GB\n",
      "Used Disk: 8.22 GB\n",
      "Percentage Usage Of Disk: 32.9%\n"
     ]
    }
   ],
   "source": [
    "# check system details\n",
    "import os\n",
    "import psutil\n",
    "import cpuinfo\n",
    "\n",
    "ram_info = psutil.virtual_memory()\n",
    "print(f\"Total RAM: {ram_info.total / 1024 / 1024 / 1024:.2f} GB\")\n",
    "print(f\"Available RAM: {ram_info.available / 1024 / 1024 / 1024:.2f} GB\")\n",
    "print(f\"Used RAM: {ram_info.used / 1024 / 1024 / 1024:.2f} GB\")\n",
    "print(f\"Percentage Usage Of RAM: {ram_info.percent}%\")\n",
    "print(f\"CPU Cores: {os.cpu_count()}\")\n",
    "print(f\"CPU Speed: {cpuinfo.get_cpu_info()['hz_actual_friendly']}\")\n",
    "disk_info = psutil.disk_usage(os.getcwd())\n",
    "print(f\"Total Disk: {disk_info.total / 1024 / 1024 / 1024:.2f} GB\")\n",
    "print(f\"Available Disk: {disk_info.free / 1024 / 1024 / 1024:.2f} GB\")\n",
    "print(f\"Used Disk: {disk_info.used / 1024 / 1024 / 1024:.2f} GB\")\n",
    "print(f\"Percentage Usage Of Disk: {disk_info.percent}%\")"
   ]
  },
  {
   "cell_type": "code",
   "execution_count": 3,
   "id": "3aa0ef51-d46b-4ccf-9caa-741ad90c77c1",
   "metadata": {
    "tags": []
   },
   "outputs": [],
   "source": [
    "# import requirements\n",
    "import pandas as pd\n",
    "from sklearn.metrics import mean_squared_error, r2_score\n",
    "from gbm_regressor import Regression"
   ]
  },
  {
   "cell_type": "code",
   "execution_count": 4,
   "id": "32da91cf-563e-4206-97d7-6a3c7af2bcfa",
   "metadata": {
    "tags": []
   },
   "outputs": [],
   "source": [
    "# get the data\n",
    "riders = pd.read_csv(\"riders.csv\")\n",
    "riders = riders.sort_values(by=[\"date\", \"route\", \"daytype\"]).reset_index(drop=True)\n",
    "riders = riders.head(int(0.05 * riders.shape[0]))  # only use 5% of the data"
   ]
  },
  {
   "cell_type": "code",
   "execution_count": 5,
   "id": "2d0c1f8f-5846-42f2-82a7-8bfbcb16cf8c",
   "metadata": {},
   "outputs": [],
   "source": [
    "# resort the data\n",
    "riders = riders.sort_values(by=[\"route\", \"daytype\", \"date\"]).reset_index(drop=True)"
   ]
  },
  {
   "cell_type": "code",
   "execution_count": 6,
   "id": "851e4b0f-2bb9-48c4-bffb-7b6e35d12ac8",
   "metadata": {
    "tags": []
   },
   "outputs": [],
   "source": [
    "# lag the output variable\n",
    "riders[\"rides(t-1)\"] = riders.groupby([\"route\", \"daytype\"])[\"rides\"].shift(1)\n",
    "riders[\"rides(t-2)\"] = riders.groupby([\"route\", \"daytype\"])[\"rides\"].shift(2)\n",
    "riders[\"rides(t-3)\"] = riders.groupby([\"route\", \"daytype\"])[\"rides\"].shift(3)\n",
    "riders[\"rides(t-4)\"] = riders.groupby([\"route\", \"daytype\"])[\"rides\"].shift(4)"
   ]
  },
  {
   "cell_type": "code",
   "execution_count": 7,
   "id": "a152a03d-8d41-48ab-ae05-1d836c5f7c7d",
   "metadata": {
    "tags": []
   },
   "outputs": [],
   "source": [
    "# remove rows with missing values\n",
    "riders = riders.dropna().reset_index(drop=True)"
   ]
  },
  {
   "cell_type": "code",
   "execution_count": 8,
   "id": "41886952-214c-496d-9818-4ad0efbb605c",
   "metadata": {},
   "outputs": [],
   "source": [
    "# resort the data\n",
    "riders = riders.sort_values(by=[\"date\", \"route\", \"daytype\"]).reset_index(drop=True)"
   ]
  },
  {
   "cell_type": "code",
   "execution_count": 9,
   "id": "45f9301a-5582-4abd-8e1b-33a9302eb898",
   "metadata": {
    "tags": []
   },
   "outputs": [],
   "source": [
    "# split up the data into training and testing\n",
    "y = riders[[\"rides\"]]\n",
    "X = riders.drop(columns=\"rides\")\n",
    "trainX = X.head(int(0.8 * X.shape[0]))\n",
    "trainy = y.head(int(0.8 * y.shape[0]))\n",
    "testX = X.tail(int(0.2 * X.shape[0])).reset_index(drop=True)\n",
    "testy = y.tail(int(0.2 * y.shape[0])).reset_index(drop=True)"
   ]
  },
  {
   "cell_type": "code",
   "execution_count": 10,
   "id": "a543694e-96f5-4e1e-ac1c-17e2694f648b",
   "metadata": {
    "tags": []
   },
   "outputs": [
    {
     "name": "stdout",
     "output_type": "stream",
     "text": [
      "\n",
      "---- Riders Regression Analysis ----\n",
      "\n",
      "1/6) Model Training\n",
      "> Renaming Features\n",
      "> Extracting Time Features\n",
      "> Transforming Categorical Features\n",
      "> Renaming Features\n",
      "> Removing Constant Features\n",
      "> Scaling Features\n",
      "> Selecting Features\n",
      "> Computing Atwoood Numbers\n",
      "> Binning Features\n",
      "> Computing Reciprocals\n",
      "> Computing Interactions\n",
      "> Removing Constant Features\n",
      "> Selecting Features\n",
      "> Transforming The Training Data\n",
      "> Training XGBoost\n",
      "4.23 Minutes\n",
      "2/6) Model Performance\n",
      "> Transforming The Testing Data\n",
      "7.45 Seconds\n",
      "3/6) Model Deployment\n",
      "> Transforming All The Data\n",
      "> Training XGBoost\n",
      "1.47 Minutes\n",
      "4/6) Model Indicators\n",
      "0.13 Seconds\n",
      "5/6) Model Prediction\n",
      "> Transforming The New Data\n",
      "4.03 Seconds\n",
      "6/6) Model Monitoring\n",
      "12.15 Seconds\n"
     ]
    }
   ],
   "source": [
    "# build the model\n",
    "print(\"\\n---- Riders Regression Analysis ----\\n\")\n",
    "model = Regression(\n",
    "    name=\"XGBoost With Feature Engineering\", \n",
    "    frac=1,\n",
    "    rename=True, \n",
    "    time=True, \n",
    "    binary=True, \n",
    "    imputation=False, \n",
    "    variance=True,\n",
    "    scale=True,\n",
    "    atwood=True,\n",
    "    binning=True,\n",
    "    reciprocal=True, \n",
    "    interaction=True, \n",
    "    selection=True,\n",
    ")\n",
    "try:\n",
    "    model.load()  # load the machine learning pipeline\n",
    "    predictions = model.predict(testX)\n",
    "except:\n",
    "    model.fit(trainX, trainy)  # build the machine learning pipeline\n",
    "    predictions = model.predict(testX)"
   ]
  },
  {
   "cell_type": "code",
   "execution_count": 11,
   "id": "339bc5f5-c289-412b-b4a4-a9ff62f19559",
   "metadata": {},
   "outputs": [
    {
     "name": "stdout",
     "output_type": "stream",
     "text": [
      "Model Diagnostics:\n",
      "> RMSE: 1451.663951192435\n",
      "> R2: 0.9381333405127853\n",
      "> In Control: 94.45%\n",
      "> Model Indicators:\n",
      "1. rides(t-3)(0.2-0.4)*1/rides(t-1)\n",
      "2. rides(t-4)(0.2-0.4)*1/rides(t-1)\n",
      "3. rides(t-1)*date_nasdaq(0.2-0.4)\n",
      "4. rides(t-4)*date_gdi(0.2-0.4)\n",
      "5. rides(t-1)(0.6-0.8)*1/date_gdi\n",
      "6. rides(t-1)\n",
      "7. 1/rides(t-1)*1/rides(t-3)\n",
      "8. rides(t-1)(0.6-0.8)*1/date_nasdaq\n",
      "9. date_gdp\n",
      "10. rides(t-4)*date_nasdaq(0.2-0.4)\n",
      "> Feature Drift:\n",
      "1. rides(t-2)*date_day_of_week_Monday\n",
      "2. rides(t-1)*date_federal_funds_rate(0.6-0.8)\n",
      "3. rides(t-3)(0.4-0.6)*1/rides(t-4)\n",
      "4. date_ppi*rides(t-3)(0.4-0.6)\n",
      "5. rides(t-3)(0.4-0.6)\n",
      "6. rides(t-3)(0.4-0.6)*1/rides(t-1)\n",
      "7. rides(t-1)*rides(t-2)(0.4-0.6)\n",
      "8. rides(t-2)(0.4-0.6)*1/rides(t-3)\n",
      "9. rides(t-3)*rides(t-2)(0.4-0.6)\n",
      "10. rides(t-1)*rides(t-3)(0.4-0.6)\n"
     ]
    }
   ],
   "source": [
    "# model diagnostics\n",
    "print(\"Model Diagnostics:\")\n",
    "print(f\"> RMSE: {model.rmse}\")\n",
    "print(f\"> R2: {model.r2}\")\n",
    "print(f\"> In Control: {model.in_control}\")\n",
    "print(\"> Model Indicators:\")\n",
    "for i, indicator in enumerate(model.indicators[\"Indicator\"][:10]):\n",
    "    print(f\"{i+1}. {indicator}\")\n",
    "print(\"> Feature Drift:\")\n",
    "for i, feature in enumerate(model.drift.loc[model.drift[\"pvalue\"] < 0.05, \"Feature\"][:10]):\n",
    "    print(f\"{i+1}. {feature}\")\n",
    "if model.drift.loc[model.drift[\"pvalue\"] < 0.05].shape[0] == 0:\n",
    "    print(\"None\")"
   ]
  },
  {
   "cell_type": "code",
   "execution_count": 12,
   "id": "30b9ca50-06d6-49b7-848b-c0852e302909",
   "metadata": {
    "tags": []
   },
   "outputs": [
    {
     "name": "stdout",
     "output_type": "stream",
     "text": [
      "RMSE: 1639.5242328377822\n",
      "R2: 0.9243763357908555\n"
     ]
    }
   ],
   "source": [
    "# score the model\n",
    "rmse = mean_squared_error(\n",
    "    y_true=testy.iloc[:,0].to_numpy(),\n",
    "    y_pred=predictions,\n",
    "    squared=False,\n",
    ")\n",
    "r2 = r2_score(\n",
    "    y_true=testy.iloc[:,0].to_numpy(),\n",
    "    y_pred=predictions,\n",
    ")\n",
    "\n",
    "print(f\"RMSE: {rmse}\")\n",
    "print(f\"R2: {r2}\")"
   ]
  },
  {
   "cell_type": "code",
   "execution_count": 13,
   "id": "2226e286-b762-4265-a3de-de9a5561d5ec",
   "metadata": {
    "tags": []
   },
   "outputs": [],
   "source": [
    "# save the machine learning pipeline\n",
    "model.dump()"
   ]
  },
  {
   "cell_type": "code",
   "execution_count": 14,
   "id": "a691928f-c74f-4630-a0f5-f736617acb5e",
   "metadata": {
    "tags": []
   },
   "outputs": [
    {
     "name": "stdout",
     "output_type": "stream",
     "text": [
      "Model Retraining:\n",
      "> Transforming The New Data\n",
      "> Training XGBoost\n",
      "1.61 Minutes\n"
     ]
    }
   ],
   "source": [
    "# refit the model to include the test data\n",
    "model.refit(testX, testy)"
   ]
  }
 ],
 "metadata": {
  "kernelspec": {
   "display_name": "sagemaker-distribution:Python",
   "language": "python",
   "name": "conda-env-sagemaker-distribution-py"
  },
  "language_info": {
   "codemirror_mode": {
    "name": "ipython",
    "version": 3
   },
   "file_extension": ".py",
   "mimetype": "text/x-python",
   "name": "python",
   "nbconvert_exporter": "python",
   "pygments_lexer": "ipython3",
   "version": "3.8.17"
  }
 },
 "nbformat": 4,
 "nbformat_minor": 5
}
